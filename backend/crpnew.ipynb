{
 "cells": [
  {
   "cell_type": "markdown",
   "id": "8e94bfe0-713e-498e-acee-f7b33ef8c526",
   "metadata": {},
   "source": [
    "<p style=\"font: 30px Georgia; \n",
    "          text-decoration: underline; \n",
    "          text-align:center; \n",
    "          padding:20px; \n",
    "          background-color:red \"> \n",
    "    AI POWERED LOCAL CRIME PREDITION\n",
    "</p>"
   ]
  },
  {
   "attachments": {},
   "cell_type": "markdown",
   "id": "5fdef2c4-cd0e-4b36-90d0-5eb5a46cf262",
   "metadata": {},
   "source": [
    "<p style=\"font: 20px Georgia;  \n",
    "          font-style: oblique;\n",
    "          text-align:justify;\n",
    "          padding:15px; \n",
    "          background-color:Blue \"> \n",
    "    Name: &emsp;&ensp;Alok Maurya, Aman Jaiswal, Aman Kumar and Abhishek Kumar<br>\n",
    "    Course: &emsp;B.Tech CSE(AI)<br>\n",
    "    Semester: &nbsp; 8th \n",
    "</p>"
   ]
  },
  {
   "cell_type": "markdown",
   "id": "bf2c500f-c98a-43a9-a72f-8a0a07c52afc",
   "metadata": {
    "tags": []
   },
   "source": [
    "<p style=\"font: 20px Georgia; \n",
    "          color: black;\n",
    "          font-style: oblique;\n",
    "          text-align: justify;\n",
    "          padding:15px; \n",
    "          background-color:MistyRose\"> \n",
    "    IMPORTING THE REQUIRED LIBRARIES \n",
    "</p>"
   ]
  },
  {
   "cell_type": "code",
   "execution_count": null,
   "id": "bcd71b4d-f3da-4a7e-bf3d-24d2e2d2c327",
   "metadata": {
    "tags": []
   },
   "outputs": [],
   "source": [
    "import pandas as pd\n",
    "import matplotlib.pyplot as plt\n",
    "from sklearn.preprocessing import LabelEncoder\n",
    "from sklearn.model_selection import train_test_split\n",
    "from sklearn import svm\n",
    "from sklearn.neighbors import KNeighborsRegressor\n",
    "from sklearn import tree\n",
    "from sklearn.ensemble import RandomForestRegressor\n",
    "from sklearn.neural_network import MLPRegressor\n",
    "from sklearn.neighbors import KNeighborsClassifier\n",
    "from sklearn.ensemble import RandomForestClassifier\n",
    "from sklearn.tree import DecisionTreeClassifier\n",
    "from sklearn.linear_model import LogisticRegression\n",
    "from sklearn import metrics\n",
    "import warnings\n"
   ]
  },
  {
   "cell_type": "markdown",
   "id": "426befa5-93a6-4e54-be91-9a72eb7869c0",
   "metadata": {
    "tags": []
   },
   "source": [
    "<p style=\"font: 20px Georgia; \n",
    "          color: black;\n",
    "          font-style: oblique;\n",
    "          text-align: justify;\n",
    "          margin-top:20px;\n",
    "          padding:15px; \n",
    "          background-color:MistyRose\"> \n",
    "    GETTING THE DATASET \n",
    "</p>"
   ]
  },
  {
   "cell_type": "code",
   "execution_count": null,
   "id": "6c917209-a2bc-4cbb-8d3d-c2336f21afa6",
   "metadata": {
    "tags": []
   },
   "outputs": [],
   "source": [
    "import pandas as pd\n",
    "dataset = pd.read_excel(\"Dataset/crp.xlsx\", sheet_name=\"Sheet1\")"
   ]
  },
  {
   "cell_type": "code",
   "execution_count": null,
   "id": "1171e69f-0966-46ed-8e0d-d1016e1c85e4",
   "metadata": {},
   "outputs": [],
   "source": [
    "dataset"
   ]
  },
  {
   "cell_type": "code",
   "execution_count": null,
   "id": "28f564e4-3c09-4f61-821f-39b2caa626f8",
   "metadata": {},
   "outputs": [],
   "source": [
    "dataset.info()"
   ]
  },
  {
   "cell_type": "markdown",
   "id": "47aa2dd6-258e-4329-bf2a-87739a9faea5",
   "metadata": {
    "tags": []
   },
   "source": [
    "<p style=\"font: 20px Georgia; \n",
    "          color: black;\n",
    "          font-style: oblique;\n",
    "          text-align: justify;\n",
    "          margin-top:20px;\n",
    "          padding:15px; \n",
    "          background-color:MistyRose\"> \n",
    "    DATASET INFORMATION \n",
    "</p>"
   ]
  },
  {
   "cell_type": "markdown",
   "id": "6070b9c8-5ebc-4651-a23c-373461a954fd",
   "metadata": {
    "tags": []
   },
   "source": [
    "*  In this study, the data has been collected from the **National Crime Records Bureau (NCRB)**, India.\n",
    "*  The data provides statistics on the number of crimes commited in **19 metropolitan cities** during the year **2014 to 2021**.\n",
    "*  The 19 metropolitan cities are:<br>\n",
    "    `*  Ahmedabad        *  Bengaluru        *  Chennai   `<br>\n",
    "    `*  Coimbatore       *  Delhi            *  Ghaziabad `<br>\n",
    "    `*  Hyderabad        *  Indore           *  Jaipur    `<br>\n",
    "    `*  Kanpur           *  Kochi            *  Kolkata   `<br>\n",
    "    `*  Kozhikode        *  Lucknow          *  Mumbai    `<br>\n",
    "    `*  Nagpur           *  Patna            *  Pune      `<br>\n",
    "    `*  Surat                                             `<br>\n",
    "*  It contains the records of the 10 different category of crimes commited namely:<br>\n",
    "    `*  Murder                               *  Kidnapping                   `<br>\n",
    "    `*  Crime against women                  *  Crime against children       `<br>\n",
    "    `*  Crime Committed by Juveniles         *  Crime against Senior Citizen `<br>\n",
    "    `*  Crime against SC                     *  Crime against ST             `<br>\n",
    "    `*  Economic Offences                    *  Cyber Crimes                 `<br>"
   ]
  },
  {
   "cell_type": "markdown",
   "id": "889c79d1-c0cf-46cf-9672-1f51e06323f7",
   "metadata": {
    "jp-MarkdownHeadingCollapsed": true,
    "tags": []
   },
   "source": [
    "<p style=\"font: 20px Georgia; \n",
    "          color: black;\n",
    "          font-style: oblique;\n",
    "          text-align: justify;\n",
    "          padding:15px; \n",
    "          margin-top:20px;\n",
    "          background-color:MistyRose\"> \n",
    "    DATA VISUALISATION\n",
    "</p>"
   ]
  },
  {
   "cell_type": "code",
   "execution_count": null,
   "id": "b2c71005-ec2c-4e76-b6ba-218aa3784f36",
   "metadata": {
    "tags": []
   },
   "outputs": [],
   "source": [
    "fig, ax = plt.subplots(11, 1, figsize=(10, 50))\n",
    "\n",
    "for i in range(0, 11):\n",
    "    ax[i].barh(dataset['City'], dataset[dataset.columns[i+2]], 0.6, color='Salmon')\n",
    "    ax[i].set_title('City vs ' + dataset.columns[i+2])\n",
    "plt.show()"
   ]
  },
  {
   "cell_type": "markdown",
   "id": "50852dfa-bac4-4de5-b068-460b4a721cbb",
   "metadata": {
    "tags": []
   },
   "source": [
    "<p style=\"font: 20px Georgia; \n",
    "          color: black;\n",
    "          font-style: oblique;\n",
    "          text-align: justify;\n",
    "          padding:15px; \n",
    "          margin-top:20px;\n",
    "          background-color:MistyRose\"> \n",
    "    NEW DATASET CREATION\n",
    "</p>"
   ]
  },
  {
   "cell_type": "code",
   "execution_count": null,
   "id": "7f135d69-ba7e-4464-8da0-2d0081c03feb",
   "metadata": {},
   "outputs": [],
   "source": [
    "\n",
    "warnings.simplefilter(action='ignore', category=FutureWarning)\n",
    "new_df = pd.DataFrame(columns=['Year', 'City', 'Population (in Lakhs) (2011)+', 'Number Of Cases', 'Type'])\n",
    "for i in range(3, 13):\n",
    "    temp = dataset[['Year', 'City', 'Population (in Lakhs) (2011)+']].copy()\n",
    "    temp['Number Of Cases'] = dataset[[dataset.columns[i]]]\n",
    "    temp['Type'] = dataset.columns[i]\n",
    "    \n",
    "    new_df = pd.concat([new_df, temp])"
   ]
  },
  {
   "cell_type": "code",
   "execution_count": null,
   "id": "6856b70e-638e-440a-9a34-25288984f0bf",
   "metadata": {
    "tags": []
   },
   "outputs": [],
   "source": [
    "new_df"
   ]
  },
  {
   "cell_type": "markdown",
   "id": "a9780ae2-8d0e-48b4-a392-c25b8755769b",
   "metadata": {},
   "source": [
    "<p style=\"font: 20px Georgia; \n",
    "          color: black;\n",
    "          font-style: oblique;\n",
    "          text-align: justify;\n",
    "          padding:15px; \n",
    "          margin-top:20px;\n",
    "          background-color:MistyRose\"> \n",
    "    DATA PRE-PROCESSING\n",
    "</p>"
   ]
  },
  {
   "cell_type": "markdown",
   "id": "04ad4089-89a7-4a2e-b49e-9beed127201c",
   "metadata": {},
   "source": [
    "<p style=\"font: 15px Georgia; \n",
    "          color: green;\n",
    "          font-style: oblique;\n",
    "          text-align: justify;\"> \n",
    "    The number of cases in each crime category column will be transformed into the crime rate per population(in lakhs).<br>\n",
    "    Crime Rate = Total Crime Cases / Population (in Lakhs)\n",
    "</p>"
   ]
  },
  {
   "cell_type": "code",
   "execution_count": null,
   "id": "00b717ef-67ea-4173-98be-dc1b12da449d",
   "metadata": {},
   "outputs": [],
   "source": [
    "new_df['Crime Rate'] = new_df['Number Of Cases'] / new_df['Population (in Lakhs) (2011)+']"
   ]
  },
  {
   "cell_type": "code",
   "execution_count": null,
   "id": "13e7085e-e210-4efe-a43b-f9e20da885ef",
   "metadata": {},
   "outputs": [],
   "source": [
    "new_df"
   ]
  },
  {
   "cell_type": "markdown",
   "id": "28abe97e-658f-4108-b3c9-41bf85107423",
   "metadata": {},
   "source": [
    "<p style=\"font: 15px Georgia; \n",
    "          color: green;\n",
    "          font-style: oblique;\n",
    "          text-align: justify;\"> \n",
    "    As the Number Of Cases Column is obsolete, it should be dropped\n",
    "</p>"
   ]
  },
  {
   "cell_type": "code",
   "execution_count": null,
   "id": "93caaf4e-4285-47ae-8e60-de4309af0775",
   "metadata": {},
   "outputs": [],
   "source": [
    "new_df = new_df.drop(['Number Of Cases'], axis=1)"
   ]
  },
  {
   "cell_type": "code",
   "execution_count": null,
   "id": "51cc0d2d-b17c-4b72-bd10-a6fe572c66ab",
   "metadata": {},
   "outputs": [],
   "source": [
    "new_df"
   ]
  },
  {
   "cell_type": "code",
   "execution_count": null,
   "id": "7bcfa58f-39d2-4174-9f11-dec0cbc58a69",
   "metadata": {},
   "outputs": [],
   "source": [
    "# saving the new dataset as an excel file\n",
    "new_df.to_excel(\"Dataset/new_dataset.xlsx\", index=False, sheet_name ='Sheet1')"
   ]
  },
  {
   "cell_type": "markdown",
   "id": "e10f9988-bf5f-434a-b7e6-f7b0d5d7e826",
   "metadata": {},
   "source": [
    "<p style=\"font: 20px Georgia; \n",
    "          color: black;\n",
    "          font-style: oblique;\n",
    "          text-align: justify;\n",
    "          margin-top:20px;\n",
    "          padding:15px; \n",
    "          background-color:MistyRose\"> \n",
    "    LOADING THE NEW DATASET\n",
    "</p>"
   ]
  },
  {
   "cell_type": "code",
   "execution_count": null,
   "id": "7a78f840-583f-4427-b49c-f1de68e162fe",
   "metadata": {},
   "outputs": [],
   "source": [
    "new_dataset = pd.read_excel(\"Dataset/new_dataset.xlsx\", sheet_name=\"Sheet1\")"
   ]
  },
  {
   "cell_type": "code",
   "execution_count": null,
   "id": "e2ab8c63-5797-4e4c-9170-d2ef89f36e01",
   "metadata": {},
   "outputs": [],
   "source": [
    "new_dataset"
   ]
  },
  {
   "cell_type": "code",
   "execution_count": null,
   "id": "57d9d6de-3da1-4478-a492-090e6adcf36a",
   "metadata": {},
   "outputs": [],
   "source": [
    "new_dataset.info()"
   ]
  },
  {
   "cell_type": "code",
   "execution_count": null,
   "id": "c3ba618e-eff3-4b4d-ad02-8eb74780bc10",
   "metadata": {},
   "outputs": [],
   "source": [
    "new_dataset.describe()"
   ]
  },
  {
   "cell_type": "markdown",
   "id": "f9aa2849-8298-43f0-a834-bd5c3a7d400b",
   "metadata": {},
   "source": [
    "<p style=\"font: 15px Georgia; \n",
    "          color: green;\n",
    "          font-style: oblique;\n",
    "          text-align: justify;\"> \n",
    "    The data is clean with no null values with column city and type as object/categorical Dtype.\n",
    "</p>"
   ]
  },
  {
   "cell_type": "markdown",
   "id": "ee626add-3ee6-42f1-ac0f-21538f5ff98e",
   "metadata": {
    "tags": []
   },
   "source": [
    "<p style=\"font: 20px Georgia; \n",
    "          color: black;\n",
    "          font-style: oblique;\n",
    "          text-align: justify;\n",
    "          padding:15px; \n",
    "          margin-top:20px;\n",
    "          background-color:MistyRose\"> \n",
    "    LABEL ENCODING\n",
    "</p>"
   ]
  },
  {
   "cell_type": "markdown",
   "id": "6bf34c99-d5a1-4d89-bb11-4c1af932e504",
   "metadata": {},
   "source": [
    "<p style=\"font: 15px Georgia; \n",
    "          color: green;\n",
    "          font-style: oblique;\n",
    "          text-align: justify;\"> \n",
    "    Since two columns in our dataset has categorical values i.e City and Type. <br>\n",
    "    Thus, to make them machine-readable, we must convert them to numeric labels.\n",
    "</p>"
   ]
  },
  {
   "cell_type": "code",
   "execution_count": null,
   "id": "930f2465-e742-436f-ac80-abb44805efd2",
   "metadata": {},
   "outputs": [],
   "source": [
    "le = LabelEncoder()"
   ]
  },
  {
   "cell_type": "code",
   "execution_count": null,
   "id": "853d1034-29de-424e-ab82-6e319d2d0772",
   "metadata": {},
   "outputs": [],
   "source": [
    "new_dataset['City'] = le.fit_transform(new_dataset['City'])\n",
    "mapping = dict(zip(le.classes_, range(len(le.classes_))))"
   ]
  },
  {
   "cell_type": "code",
   "execution_count": null,
   "id": "e5d38435-4e0f-478b-b91b-855a441e1b6b",
   "metadata": {},
   "outputs": [],
   "source": [
    "# Saving the mapping file for further use\n",
    "file = open('Mappings/City_Mapping.txt', 'wt')\n",
    "for key,val in mapping.items():\n",
    "    print(str(key) + \" - \" + str(val) + '\\n')\n",
    "    file.write(str(key) + \" - \" + str(val) + '\\n')"
   ]
  },
  {
   "cell_type": "code",
   "execution_count": null,
   "id": "4335a6c0-0d2b-44eb-ac1d-78098ff48f5c",
   "metadata": {},
   "outputs": [],
   "source": [
    "new_dataset['Type'] = le.fit_transform(new_dataset['Type'])\n",
    "mapping = dict(zip(le.classes_, range(len(le.classes_))))"
   ]
  },
  {
   "cell_type": "code",
   "execution_count": null,
   "id": "c1c9048a-dd3a-4cca-b3f5-f9ee7535ada5",
   "metadata": {},
   "outputs": [],
   "source": [
    "# Saving the mapping file for further use\n",
    "file = open('Mappings/Type_Mapping.txt', 'wt')\n",
    "for key,val in mapping.items():\n",
    "    print(str(key) + \" - \" + str(val) + '\\n')\n",
    "    file.write(str(key) + \" - \" + str(val) + '\\n')"
   ]
  },
  {
   "cell_type": "code",
   "execution_count": null,
   "id": "aef47db7-2f74-41f4-83b2-185355459550",
   "metadata": {},
   "outputs": [],
   "source": [
    "new_dataset"
   ]
  },
  {
   "cell_type": "markdown",
   "id": "6c06944b-d651-4c13-8baa-68ec2bc18e0f",
   "metadata": {
    "tags": []
   },
   "source": [
    "<p style=\"font: 20px Georgia; \n",
    "          color: black;\n",
    "          font-style: oblique;\n",
    "          text-align: justify;\n",
    "          padding:15px; \n",
    "          background-color:MistyRose\"> \n",
    "    SPLITTING OF DATASET FOR TRAINING / TESTING\n",
    "</p>"
   ]
  },
  {
   "cell_type": "code",
   "execution_count": null,
   "id": "0ddfb94c-de84-4570-b3c3-d8fb3f402709",
   "metadata": {},
   "outputs": [],
   "source": [
    "x = new_dataset[new_dataset.columns[0:4]].values\n",
    "x"
   ]
  },
  {
   "cell_type": "code",
   "execution_count": null,
   "id": "f0d409b0-df6d-41cf-af37-21cd514970f4",
   "metadata": {},
   "outputs": [],
   "source": [
    "y = new_dataset['Crime Rate'].values\n",
    "y"
   ]
  },
  {
   "cell_type": "code",
   "execution_count": null,
   "id": "8bdf1869-3840-4acb-b7d7-e6d04bd8931a",
   "metadata": {},
   "outputs": [],
   "source": [
    "x_train, x_test, y_train, y_test = train_test_split(x, y, test_size=0.20, random_state=50)"
   ]
  },
  {
   "cell_type": "code",
   "execution_count": null,
   "id": "f35d54ac-1f04-4415-93df-1e5a84f04e21",
   "metadata": {},
   "outputs": [],
   "source": [
    "x_train"
   ]
  },
  {
   "cell_type": "markdown",
   "id": "d7c66e80",
   "metadata": {},
   "source": []
  },
  {
   "cell_type": "code",
   "execution_count": null,
   "id": "ad090ec6-546a-4cb4-a6fa-b069caf3fe8c",
   "metadata": {},
   "outputs": [],
   "source": [
    "y_train"
   ]
  },
  {
   "cell_type": "markdown",
   "id": "89a981b4-c414-420b-a3d9-e29c890aeddd",
   "metadata": {
    "tags": []
   },
   "source": [
    "<p style=\"font: 20px Georgia; \n",
    "          color: black;\n",
    "          font-style: oblique;\n",
    "          text-align: justify;\n",
    "          padding:15px; \n",
    "          background-color:MistyRose\"> \n",
    "    MODEL CREATION\n",
    "</p>"
   ]
  },
  {
   "cell_type": "markdown",
   "id": "30a08073-7f4b-4ebf-b155-1ef52f5de207",
   "metadata": {},
   "source": [
    "<p style=\"font: 20px Georgia; \n",
    "          color: black;\n",
    "          font-style: oblique;\n",
    "          text-align: justify;\n",
    "          padding:15px; \n",
    "          background-color:PaleTurquoise\"> \n",
    "    Support Vector Machine (Regressor)\n",
    "</p>"
   ]
  },
  {
   "cell_type": "code",
   "execution_count": null,
   "id": "9da424b1-f264-422e-a56e-e1654603c52e",
   "metadata": {},
   "outputs": [],
   "source": [
    "model1 = svm.SVR()\n",
    "model1.fit(x_train, y_train)\n",
    "y_pred = model1.predict(x_test)"
   ]
  },
  {
   "cell_type": "code",
   "execution_count": null,
   "id": "1890b4e9-b470-43e5-a5e6-e354b200719e",
   "metadata": {},
   "outputs": [],
   "source": [
    "print('Mean Absolute Error:', metrics.mean_absolute_error(y_test, y_pred))\n",
    "print('Mean Squared Error:', metrics.mean_squared_error(y_test, y_pred))\n",
    "print('R2 score:', metrics.r2_score(y_test, y_pred))"
   ]
  },
  {
   "cell_type": "markdown",
   "id": "cf3f4db5-007d-4d73-a969-a0faf9f5a052",
   "metadata": {},
   "source": [
    "<p style=\"font: 20px Georgia; \n",
    "          color: black;\n",
    "          font-style: oblique;\n",
    "          text-align: justify;\n",
    "          padding:15px; \n",
    "          background-color:PaleTurquoise \"> \n",
    "    Nearest Neighbour (Regressor)\n",
    "</p> "
   ]
  },
  {
   "cell_type": "code",
   "execution_count": null,
   "id": "4a8c1d1c-8714-4ee4-a40b-e427c7428489",
   "metadata": {},
   "outputs": [],
   "source": [
    "model2 = KNeighborsRegressor(n_neighbors=2)\n",
    "model2.fit(x_train, y_train)\n",
    "y_pred = model2.predict(x_test)"
   ]
  },
  {
   "cell_type": "code",
   "execution_count": null,
   "id": "43101771-3d97-455a-ba62-fbb4083c5447",
   "metadata": {},
   "outputs": [],
   "source": [
    "print('Mean Absolute Error:', metrics.mean_absolute_error(y_test, y_pred))\n",
    "print('Mean Squared Error:', metrics.mean_squared_error(y_test, y_pred))\n",
    "print('R2 score:', metrics.r2_score(y_test, y_pred))"
   ]
  },
  {
   "cell_type": "markdown",
   "id": "1b7ccf93-725a-49bc-b6dc-a2ef50ba5bdc",
   "metadata": {},
   "source": [
    "<p style=\"font: 20px Georgia; \n",
    "          color: black;\n",
    "          font-style: oblique;\n",
    "          text-align: justify;\n",
    "          padding:15px; \n",
    "          background-color:PaleTurquoise \"> \n",
    "    Decision Tree Regressor\n",
    "</p>"
   ]
  },
  {
   "cell_type": "code",
   "execution_count": null,
   "id": "48f84fdd-12d6-4b58-9f91-f29b643cb287",
   "metadata": {},
   "outputs": [],
   "source": [
    "model3 = tree.DecisionTreeRegressor()\n",
    "model3.fit(x_train, y_train)\n",
    "y_pred = model3.predict(x_test)"
   ]
  },
  {
   "cell_type": "code",
   "execution_count": null,
   "id": "541220e5-4718-465e-8b42-7e66bdfbfd92",
   "metadata": {},
   "outputs": [],
   "source": [
    "print('Mean Absolute Error:', metrics.mean_absolute_error(y_test, y_pred))\n",
    "print('Mean Squared Error:', metrics.mean_squared_error(y_test, y_pred))\n",
    "print('R2 score:', metrics.r2_score(y_test, y_pred))"
   ]
  },
  {
   "cell_type": "markdown",
   "id": "013e7322-e874-44f3-b779-778182626b76",
   "metadata": {},
   "source": [
    "<p style=\"font: 20px Georgia; \n",
    "          color: black;\n",
    "          font-style: oblique;\n",
    "          text-align: justify;\n",
    "          padding:15px; \n",
    "          background-color:PaleTurquoise \"> \n",
    "    Random Forest Regressor\n",
    "</p>"
   ]
  },
  {
   "cell_type": "code",
   "execution_count": null,
   "id": "95177430-68c6-482d-b658-10f4d0f85e5e",
   "metadata": {},
   "outputs": [],
   "source": [
    "model4 = RandomForestRegressor(random_state=0)\n",
    "model4.fit(x_train, y_train)\n",
    "y_pred = model4.predict(x_test)"
   ]
  },
  {
   "cell_type": "code",
   "execution_count": null,
   "id": "81be7d43-61e3-496a-b2d7-0d14050a2d3b",
   "metadata": {},
   "outputs": [],
   "source": [
    "print('Mean Absolute Error:', metrics.mean_absolute_error(y_test, y_pred))\n",
    "print('Mean Squared Error:', metrics.mean_squared_error(y_test, y_pred))\n",
    "print('R2 score:', metrics.r2_score(y_test, y_pred))"
   ]
  },
  {
   "cell_type": "markdown",
   "id": "35bf844a-7973-43be-bd50-f93c7b97d3df",
   "metadata": {},
   "source": [
    "<p style=\"font: 20px Georgia; \n",
    "          color: black;\n",
    "          font-style: oblique;\n",
    "          text-align: justify;\n",
    "          padding:15px; \n",
    "          background-color:PaleTurquoise \"> \n",
    "    Neural Networks MLPRegressor\n",
    "</p>"
   ]
  },
  {
   "cell_type": "code",
   "execution_count": null,
   "id": "258fa09a-40b0-4f15-8307-147b76b7090b",
   "metadata": {},
   "outputs": [],
   "source": [
    "model5 = MLPRegressor(random_state=0)\n",
    "model5.fit(x_train, y_train)\n",
    "y_pred = model5.predict(x_test)"
   ]
  },
  {
   "cell_type": "code",
   "execution_count": null,
   "id": "fd7b691a-6b5d-48d0-8875-6192bee0ae83",
   "metadata": {},
   "outputs": [],
   "source": [
    "print('Mean Absolute Error:', metrics.mean_absolute_error(y_test, y_pred))\n",
    "print('Mean Squared Error:', metrics.mean_squared_error(y_test, y_pred))\n",
    "print('R2 score:', metrics.r2_score(y_test, y_pred))"
   ]
  },
  {
   "cell_type": "markdown",
   "id": "cdcb665d",
   "metadata": {},
   "source": [
    "<p style=\"font: 20px Georgia; \n",
    "          color: black;\n",
    "          font-style: oblique;\n",
    "          text-align: justify;\n",
    "          padding:15px; \n",
    "          background-color:PaleTurquoise \"> \n",
    "    Classification Algos\n",
    "</p>"
   ]
  },
  {
   "cell_type": "code",
   "execution_count": null,
   "id": "3150c0b8-4cce-49b6-a0c9-ffaaaceca40a",
   "metadata": {},
   "outputs": [],
   "source": [
    "from sklearn.model_selection import train_test_split\n",
    "from sklearn.preprocessing import LabelEncoder, StandardScaler\n",
    "from sklearn.metrics import accuracy_score, classification_report\n",
    "import numpy as np\n",
    "from sklearn.metrics import accuracy_score, precision_score, recall_score, f1_score, classification_report\n",
    "from sklearn.svm import SVC"
   ]
  },
  {
   "cell_type": "code",
   "execution_count": null,
   "id": "ee20b678-e3fc-4de6-8242-4fe9c204ca86",
   "metadata": {},
   "outputs": [],
   "source": [
    "le_city = LabelEncoder()\n",
    "le_type = LabelEncoder()"
   ]
  },
  {
   "cell_type": "code",
   "execution_count": null,
   "id": "07c2f916",
   "metadata": {},
   "outputs": [],
   "source": []
  },
  {
   "cell_type": "code",
   "execution_count": null,
   "id": "b7133a8f-a8ef-4ed8-ab30-f647c2edf66b",
   "metadata": {},
   "outputs": [],
   "source": [
    "threshold = new_dataset[\"Crime Rate\"].median()  \n",
    "new_dataset[\"Crime Rate Class\"] = np.where(new_dataset[\"Crime Rate\"] > threshold, 1, 0)"
   ]
  },
  {
   "cell_type": "code",
   "execution_count": null,
   "id": "eb5a05f2-e8bb-45e9-8182-a048bc208fa9",
   "metadata": {},
   "outputs": [],
   "source": [
    "new_dataset[\"City\"] = le_city.fit_transform(new_dataset[\"City\"])\n",
    "new_dataset[\"Type\"] = le_type.fit_transform(new_dataset[\"Type\"])\n"
   ]
  },
  {
   "cell_type": "code",
   "execution_count": null,
   "id": "4e61a7ae-1d0e-4228-bc5f-c1d96fe8dc77",
   "metadata": {},
   "outputs": [],
   "source": [
    "X = new_dataset[[\"Year\", \"City\", \"Population (in Lakhs) (2011)+\", \"Type\"]]\n",
    "y = new_dataset[\"Crime Rate Class\"]"
   ]
  },
  {
   "cell_type": "code",
   "execution_count": null,
   "id": "5cf56933-b143-402c-a194-7dfcf35520fd",
   "metadata": {},
   "outputs": [],
   "source": [
    "scaler = StandardScaler()\n",
    "X_scaled = scaler.fit_transform(X)"
   ]
  },
  {
   "cell_type": "code",
   "execution_count": null,
   "id": "95aa84da-3ca1-4643-a9cd-e239881f2e74",
   "metadata": {},
   "outputs": [],
   "source": [
    "X_train, X_test, y_train, y_test = train_test_split(X_scaled, y, test_size=0.2, random_state=42)"
   ]
  },
  {
   "cell_type": "markdown",
   "id": "8ae0087d",
   "metadata": {},
   "source": [
    "<p style=\"font: 20px Georgia; \n",
    "          color: black;\n",
    "          font-style: oblique;\n",
    "          text-align: justify;\n",
    "          padding:15px; \n",
    "          background-color:PaleTurquoise \"> \n",
    "    Logistic Regression\n",
    "</p>"
   ]
  },
  {
   "cell_type": "code",
   "execution_count": null,
   "id": "30290cd0-2a3a-4ba0-b952-f227c2e90cf4",
   "metadata": {},
   "outputs": [],
   "source": [
    "model6 = LogisticRegression(max_iter=100, random_state=42)\n",
    "\n",
    "model6.fit(X_train, y_train)\n",
    "\n",
    "y_pred = model6.predict(X_test)"
   ]
  },
  {
   "cell_type": "code",
   "execution_count": null,
   "id": "cd359f7b-c529-4e39-ba53-25cbff6ab8c5",
   "metadata": {},
   "outputs": [],
   "source": [
    "accuracy = accuracy_score(y_test, y_pred)\n",
    "precision = precision_score(y_test, y_pred)\n",
    "recall = recall_score(y_test, y_pred)\n",
    "f1 = f1_score(y_test, y_pred)"
   ]
  },
  {
   "cell_type": "code",
   "execution_count": null,
   "id": "8566d561-70a8-4132-b486-ad6464adb622",
   "metadata": {},
   "outputs": [],
   "source": [
    "print(f\"Logistic Regression Accuracy: {accuracy:.2f}\")\n",
    "print(f\"Precision: {precision:.2f}\")\n",
    "print(f\"Recall: {recall:.2f}\")\n",
    "print(f\"F1 Score: {f1:.2f}\")\n",
    "print(\"\\nClassification Report:\\n\", classification_report(y_test, y_pred))"
   ]
  },
  {
   "cell_type": "markdown",
   "id": "75078d2b",
   "metadata": {},
   "source": [
    "<p style=\"font: 20px Georgia; \n",
    "          color: black;\n",
    "          font-style: oblique;\n",
    "          text-align: justify;\n",
    "          padding:15px; \n",
    "          background-color:PaleTurquoise \"> \n",
    "    Random Forest Classifier\n",
    "</p>"
   ]
  },
  {
   "cell_type": "code",
   "execution_count": null,
   "id": "b2723c8b-b5d8-493d-990b-2179247a0b3f",
   "metadata": {},
   "outputs": [],
   "source": [
    "model7 = RandomForestClassifier(n_estimators=100, random_state=42)\n",
    "\n",
    "# Train the model\n",
    "model7.fit(X_train, y_train)\n",
    "\n",
    "# Make predictions\n",
    "y_pred = model7.predict(X_test)\n",
    "\n",
    "# Evaluate the model\n",
    "accuracy = accuracy_score(y_test, y_pred)\n",
    "precision = precision_score(y_test, y_pred)\n",
    "recall = recall_score(y_test, y_pred)\n",
    "f1 = f1_score(y_test, y_pred)\n",
    "\n",
    "# Print results\n",
    "print(f\"Random Forest Accuracy: {accuracy:.2f}\")\n",
    "print(f\"Precision: {precision:.2f}\")\n",
    "print(f\"Recall: {recall:.2f}\")\n",
    "print(f\"F1 Score: {f1:.2f}\")\n",
    "print(\"\\nClassification Report:\\n\", classification_report(y_test, y_pred))"
   ]
  },
  {
   "cell_type": "markdown",
   "id": "329f540b",
   "metadata": {},
   "source": [
    "<p style=\"font: 20px Georgia; \n",
    "          color: black;\n",
    "          font-style: oblique;\n",
    "          text-align: justify;\n",
    "          padding:15px; \n",
    "          background-color:PaleTurquoise \"> \n",
    "   Decision Tree Classifier\n",
    "</p>"
   ]
  },
  {
   "cell_type": "code",
   "execution_count": null,
   "id": "bb1d3ea6-2780-47f0-80c0-31be96fd689d",
   "metadata": {},
   "outputs": [],
   "source": [
    "model8 = DecisionTreeClassifier(criterion=\"gini\", max_depth=5, random_state=42)  \n",
    "model8.fit(X_train, y_train)\n",
    "\n",
    "y_pred = model8.predict(X_test)\n",
    "\n",
    "accuracy = accuracy_score(y_test, y_pred)\n",
    "precision = precision_score(y_test, y_pred)\n",
    "recall = recall_score(y_test, y_pred)\n",
    "f1 = f1_score(y_test, y_pred)\n",
    "\n",
    "print(f\"Decision Tree Accuracy: {accuracy:.2f}\")\n",
    "print(f\"Precision: {precision:.2f}\")\n",
    "print(f\"Recall: {recall:.2f}\")\n",
    "print(f\"F1 Score: {f1:.2f}\")\n",
    "print(\"\\nClassification Report:\\n\", classification_report(y_test, y_pred))"
   ]
  },
  {
   "cell_type": "markdown",
   "id": "30066966",
   "metadata": {},
   "source": [
    "<p style=\"font: 20px Georgia; \n",
    "          color: black;\n",
    "          font-style: oblique;\n",
    "          text-align: justify;\n",
    "          padding:15px; \n",
    "          background-color:PaleTurquoise \"> \n",
    "    SVM Classifier\n",
    "</p>"
   ]
  },
  {
   "cell_type": "code",
   "execution_count": null,
   "id": "c59b6d33-6245-41fa-87f6-618f99ab193c",
   "metadata": {},
   "outputs": [],
   "source": [
    "kernels = [\"linear\", \"poly\", \"rbf\", \"sigmoid\"]\n",
    "for kernel in kernels:\n",
    "    print(f\"\\nTraining SVM with {kernel} kernel...\")\n",
    "    model9 = SVC(kernel=kernel, C=1.0, random_state=42)\n",
    "    model9.fit(X_train, y_train)\n",
    "\n",
    "    y_pred = model9.predict(X_test)\n",
    "    accuracy = accuracy_score(y_test, y_pred)\n",
    "    precision = precision_score(y_test, y_pred)\n",
    "    recall = recall_score(y_test, y_pred)\n",
    "    f1 = f1_score(y_test, y_pred)\n",
    "\n",
    "    print(f\"SVM ({kernel}) Accuracy: {accuracy:.2f}\")\n",
    "    print(f\"Precision: {precision:.2f}\")\n",
    "    print(f\"Recall: {recall:.2f}\")\n",
    "    print(f\"F1 Score: {f1:.2f}\")\n",
    "    print(\"\\nClassification Report:\\n\", classification_report(y_test, y_pred))"
   ]
  },
  {
   "cell_type": "markdown",
   "id": "6caa3a56-24cf-4929-9f42-ab842250f402",
   "metadata": {},
   "source": [
    "<p style=\"font: 20px Georgia; \n",
    "          color: black;\n",
    "          font-style: oblique;\n",
    "          text-align: justify;\n",
    "          padding:15px; \n",
    "          background-color:LightGreen \">\n",
    "    CONCLUSION:<br><br>\n",
    "    The Random Forest Regression model demonstrates the best accuracy in predicting test data among the five selected models.\n",
    "</p>"
   ]
  },
  {
   "cell_type": "markdown",
   "id": "eeabe503-9c63-4bb7-82a4-02de7b18dd64",
   "metadata": {},
   "source": [
    "<p style=\"font: 20px Georgia; \n",
    "          color: black;\n",
    "          font-style: oblique;\n",
    "          text-align: justify;\n",
    "          padding:15px; \n",
    "          background-color:MistyRose\"> \n",
    "    SAVING THE MODEL\n",
    "</p>"
   ]
  },
  {
   "cell_type": "code",
   "execution_count": null,
   "id": "c5c6141e-3b1b-4415-96d8-e883a0b6d47d",
   "metadata": {},
   "outputs": [],
   "source": [
    "import pickle"
   ]
  },
  {
   "cell_type": "code",
   "execution_count": null,
   "id": "03e647e8-97a8-407d-8f0d-0f2acc7d7891",
   "metadata": {},
   "outputs": [],
   "source": [
    "#saving the model as .pkl file\n",
    "pkl_filename = \"Model/model.pkl\"\n",
    "with open(pkl_filename, 'wb') as file:\n",
    "    pickle.dump(model4, file)"
   ]
  },
  {
   "cell_type": "code",
   "execution_count": null,
   "id": "13bdb7e8-25a1-448d-ace8-b4a5cddfe3bc",
   "metadata": {},
   "outputs": [],
   "source": [
    "#checking the saved model accuracy\n",
    "with open(pkl_filename, 'rb') as file:\n",
    "    pickle_model = pickle.load(file)\n",
    "score = pickle_model.score(x_test, y_test)\n",
    "print(score)"
   ]
  },
  {
   "cell_type": "code",
   "execution_count": null,
   "id": "3a90b61a",
   "metadata": {},
   "outputs": [],
   "source": []
  }
 ],
 "metadata": {
  "kernelspec": {
   "display_name": "Python 3",
   "language": "python",
   "name": "python3"
  },
  "language_info": {
   "codemirror_mode": {
    "name": "ipython",
    "version": 3
   },
   "file_extension": ".py",
   "mimetype": "text/x-python",
   "name": "python",
   "nbconvert_exporter": "python",
   "pygments_lexer": "ipython3",
   "version": "3.12.7"
  }
 },
 "nbformat": 4,
 "nbformat_minor": 5
}
